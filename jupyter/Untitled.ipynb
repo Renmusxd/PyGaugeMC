{
 "cells": [
  {
   "cell_type": "code",
   "execution_count": 1,
   "id": "3c9d0634",
   "metadata": {},
   "outputs": [],
   "source": [
    "import numpy as np\n",
    "from matplotlib import pyplot as plt\n",
    "from matplotlib.patches import Rectangle\n",
    "import mpl_toolkits.mplot3d.art3d as art3d\n",
    "import py_gauge_mc"
   ]
  },
  {
   "cell_type": "code",
   "execution_count": 32,
   "id": "eabd2a90",
   "metadata": {},
   "outputs": [],
   "source": [
    "def p_to_dim_dim(p):\n",
    "    if p == 3:\n",
    "        return 1,2,3\n",
    "    if p == 4:\n",
    "        return 1,3,2\n",
    "    if p == 5:\n",
    "        return 2,3,1\n",
    "    return None\n",
    "\n",
    "\n",
    "def plot_state(state):\n",
    "    T = np.arange(state.shape[0])\n",
    "    X = np.arange(state.shape[1])\n",
    "    Y = np.arange(state.shape[2])\n",
    "    Z = np.arange(state.shape[3])\n",
    "    P = np.arange(state.shape[4])\n",
    "    TT, XX, YY, ZZ, PP = np.meshgrid(T,X,Y,Z,P)\n",
    "    indices = np.stack([TT,XX,YY,ZZ,PP], axis=-1)\n",
    "    nonzero_indices = indices[state!=0,:]\n",
    "    \n",
    "    fig = plt.figure()\n",
    "    ax = plt.axes(projection='3d')\n",
    "    ax.set_xlim((0,state.shape[1]))\n",
    "    ax.set_ylim((0,state.shape[2]))\n",
    "    ax.set_zlim((0,state.shape[3]))\n",
    "    ax.set_xlabel('x')\n",
    "    ax.set_ylabel('y')\n",
    "    ax.set_zlabel('z')\n",
    "    \n",
    "    dims = ['x', 'y', 'z']\n",
    "    for (t,x,y,z,p) in indices.reshape(-1,5):\n",
    "        if t != 0:\n",
    "            continue\n",
    "        index = [x,y,z]\n",
    "        \n",
    "        pdims = p_to_dim_dim(p)\n",
    "        \n",
    "        if pdims is not None:\n",
    "            first,second,normal = pdims\n",
    "            \n",
    "            zdir = dims[normal - 1]\n",
    "            if zdir == \"y\":\n",
    "                xy1, z1 = (x, z), y\n",
    "            elif zdir == \"x\":\n",
    "                xy1, z1 = (y, z), x\n",
    "            else:\n",
    "                xy1, z1 = (x, y), z\n",
    "            \n",
    "            p = Rectangle(xy1, 1, 1, color='blue', alpha=0.1 * abs(state[t,x,y,z,p]))\n",
    "            ax.add_patch(p)\n",
    "            art3d.pathpatch_2d_to_3d(p, z=z1, zdir=zdir)"
   ]
  },
  {
   "cell_type": "code",
   "execution_count": 40,
   "id": "7af1a928",
   "metadata": {},
   "outputs": [],
   "source": [
    "graph = py_gauge_mc.GaugeTheory(8,8,8,8,[(n**2)*2 for n in range(30)])\n",
    "\n",
    "for x in range(2,6):\n",
    "    for y in range(2,6):\n",
    "        graph.add_flux(0,x,y,3,3,amount=5)\n",
    "        \n",
    "for i in range(128):\n",
    "    plot_state(graph.get_graph_state())\n",
    "    plt.savefig('images/{}.png'.format(str(i).zfill(2)))\n",
    "    plt.close()\n",
    "    graph.run_local_update()\n",
    "\n",
    "plot_state(graph.get_graph_state())\n",
    "plt.savefig('images/{}.png'.format(str(i+1).zfill(2)))\n",
    "plt.close()"
   ]
  },
  {
   "cell_type": "code",
   "execution_count": null,
   "id": "68b5efdc",
   "metadata": {},
   "outputs": [],
   "source": []
  }
 ],
 "metadata": {
  "kernelspec": {
   "display_name": "Python 3 (ipykernel)",
   "language": "python",
   "name": "python3"
  },
  "language_info": {
   "codemirror_mode": {
    "name": "ipython",
    "version": 3
   },
   "file_extension": ".py",
   "mimetype": "text/x-python",
   "name": "python",
   "nbconvert_exporter": "python",
   "pygments_lexer": "ipython3",
   "version": "3.8.10"
  }
 },
 "nbformat": 4,
 "nbformat_minor": 5
}
