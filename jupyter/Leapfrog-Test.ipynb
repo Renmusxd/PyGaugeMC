{
 "cells": [
  {
   "cell_type": "code",
   "execution_count": 1,
   "id": "cc6d7046",
   "metadata": {},
   "outputs": [],
   "source": [
    "import numpy as np\n",
    "from matplotlib import pyplot as plt\n",
    "import py_gauge_mc"
   ]
  },
  {
   "cell_type": "code",
   "execution_count": 2,
   "id": "192e01ad",
   "metadata": {
    "scrolled": true
   },
   "outputs": [],
   "source": [
    "v_n = 64\n",
    "lf = py_gauge_mc.WindingNumberLeapfrog(16, v_n, 4, 4, 4, 4)"
   ]
  },
  {
   "cell_type": "code",
   "execution_count": 3,
   "id": "d766ec94",
   "metadata": {},
   "outputs": [],
   "source": [
    "potentials = np.array([[k/10.0 * x**2 for x in range(0,v_n)] for k in range(1,17)], dtype=np.float32)\n",
    "windings = np.array([[1,0,0,0,0,0]], dtype=np.int32)\n",
    "counts = np.array([], dtype=np.uint64)\n",
    "\n",
    "#lf.init_potentials(potentials, windings=windings, winding_counts=counts, standarize=True, num_staging=0)\n",
    "lf.init_potentials(potentials, standarize=True, num_staging=0)"
   ]
  },
  {
   "cell_type": "code",
   "execution_count": 4,
   "id": "e86708be",
   "metadata": {
    "scrolled": true
   },
   "outputs": [],
   "source": [
    "lf.seed_and_simulate_step(100,10,10,10,True)"
   ]
  },
  {
   "cell_type": "code",
   "execution_count": 6,
   "id": "c99e87e0",
   "metadata": {},
   "outputs": [],
   "source": [
    "w, e = lf.repeated_seed_and_measure(10, 100,10,10,10,True)"
   ]
  },
  {
   "cell_type": "code",
   "execution_count": 9,
   "id": "3f9bd6f4",
   "metadata": {},
   "outputs": [
    {
     "data": {
      "text/plain": [
       "array([260.86002  , 311.84003  , 342.53998  , 365.52     , 377.       ,\n",
       "       381.84     , 360.21997  , 249.28006  ,  79.2      ,  38.6      ,\n",
       "        17.16     ,  10.08     ,   8.32     ,   9.5199995,   3.6      ,\n",
       "         1.9200001], dtype=float32)"
      ]
     },
     "execution_count": 9,
     "metadata": {},
     "output_type": "execute_result"
    }
   ],
   "source": [
    "e.mean(axis=0)"
   ]
  },
  {
   "cell_type": "code",
   "execution_count": null,
   "id": "e0c4e459",
   "metadata": {},
   "outputs": [],
   "source": []
  }
 ],
 "metadata": {
  "kernelspec": {
   "display_name": "Python 3 (ipykernel)",
   "language": "python",
   "name": "python3"
  },
  "language_info": {
   "codemirror_mode": {
    "name": "ipython",
    "version": 3
   },
   "file_extension": ".py",
   "mimetype": "text/x-python",
   "name": "python",
   "nbconvert_exporter": "python",
   "pygments_lexer": "ipython3",
   "version": "3.10.6"
  }
 },
 "nbformat": 4,
 "nbformat_minor": 5
}
