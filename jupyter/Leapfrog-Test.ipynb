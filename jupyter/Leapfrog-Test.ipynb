{
 "cells": [
  {
   "cell_type": "code",
   "execution_count": 1,
   "id": "cc6d7046",
   "metadata": {},
   "outputs": [],
   "source": [
    "import numpy as np\n",
    "from matplotlib import pyplot as plt\n",
    "import py_gauge_mc\n",
    "from tqdm import tqdm"
   ]
  },
  {
   "cell_type": "code",
   "execution_count": 2,
   "id": "192e01ad",
   "metadata": {
    "scrolled": true
   },
   "outputs": [],
   "source": [
    "replicas = 128\n",
    "staging = 8\n",
    "v_n = 64\n",
    "L = 4\n",
    "lf = py_gauge_mc.WindingNumberLeapfrog(replicas + staging, v_n, L,L,L,L)\n",
    "lf.set_use_heatbath(True)\n",
    "\n",
    "potentials_form = np.array([x**2 for x in range(0,v_n)], dtype=np.float32)\n",
    "\n",
    "num_steps = 16\n",
    "inv_ks = np.linspace(0.1,1.0,num_steps*(replicas - 1) + 1, dtype=np.float32)"
   ]
  },
  {
   "cell_type": "code",
   "execution_count": 10,
   "id": "f195a353",
   "metadata": {},
   "outputs": [
    {
     "name": "stdout",
     "output_type": "stream",
     "text": [
      "612 ms ± 29.4 ms per loop (mean ± std. dev. of 7 runs, 1 loop each)\n"
     ]
    }
   ],
   "source": [
    "# Time trial for seeding updates for i=0\n",
    "i = 0\n",
    "sub_inv_ks = inv_ks[i*(replicas - 1):i*(replicas - 1) + replicas]\n",
    "potentials = np.einsum('i,j->ij', sub_inv_ks, potentials_form)\n",
    "lf.init_potentials(potentials, windings=np.array([[0,0,0,0,0,0],[1,0,0,0,0,0]], dtype=np.int32),num_staging=staging)\n",
    "\n",
    "def run():\n",
    "    lf.repeated_seed(1)\n",
    "    lf.wait_for_gpu()\n",
    "\n",
    "%timeit run()"
   ]
  },
  {
   "cell_type": "code",
   "execution_count": 4,
   "id": "229fec90",
   "metadata": {},
   "outputs": [
    {
     "name": "stdout",
     "output_type": "stream",
     "text": [
      "106 µs ± 8.3 µs per loop (mean ± std. dev. of 7 runs, 10,000 loops each)\n"
     ]
    }
   ],
   "source": [
    "def run():\n",
    "    lf.seed_random_winding(True)\n",
    "    lf.wait_for_gpu()\n",
    "\n",
    "%timeit run()"
   ]
  },
  {
   "cell_type": "code",
   "execution_count": 6,
   "id": "7fe9b47c",
   "metadata": {},
   "outputs": [
    {
     "name": "stdout",
     "output_type": "stream",
     "text": [
      "106 µs ± 3.4 µs per loop (mean ± std. dev. of 7 runs, 10,000 loops each)\n"
     ]
    }
   ],
   "source": [
    "def run():\n",
    "    lf.run_global_sweep()\n",
    "    lf.wait_for_gpu()\n",
    "\n",
    "%timeit run()"
   ]
  },
  {
   "cell_type": "code",
   "execution_count": 7,
   "id": "a3458480",
   "metadata": {},
   "outputs": [
    {
     "name": "stdout",
     "output_type": "stream",
     "text": [
      "221 µs ± 3.28 µs per loop (mean ± std. dev. of 7 runs, 1,000 loops each)\n"
     ]
    }
   ],
   "source": [
    "def run():\n",
    "    lf.simulate_local(1)\n",
    "    lf.wait_for_gpu()\n",
    "\n",
    "%timeit run()"
   ]
  },
  {
   "cell_type": "code",
   "execution_count": 13,
   "id": "fc8f4ecf",
   "metadata": {},
   "outputs": [
    {
     "name": "stdout",
     "output_type": "stream",
     "text": [
      "1.92 ms ± 10.3 µs per loop (mean ± std. dev. of 7 runs, 100 loops each)\n"
     ]
    }
   ],
   "source": [
    "def run():\n",
    "    lf.simulate_local(10)\n",
    "    lf.wait_for_gpu()\n",
    "\n",
    "%timeit run()"
   ]
  },
  {
   "cell_type": "code",
   "execution_count": 8,
   "id": "1f8adb04",
   "metadata": {},
   "outputs": [
    {
     "name": "stdout",
     "output_type": "stream",
     "text": [
      "3.76 ms ± 65 µs per loop (mean ± std. dev. of 7 runs, 100 loops each)\n"
     ]
    }
   ],
   "source": [
    "def run():\n",
    "    lf.run_parallel_tempering(False)\n",
    "    lf.wait_for_gpu()\n",
    "\n",
    "%timeit run()"
   ]
  },
  {
   "cell_type": "code",
   "execution_count": 14,
   "id": "70945662",
   "metadata": {},
   "outputs": [
    {
     "name": "stdout",
     "output_type": "stream",
     "text": [
      "3.82 ms ± 129 µs per loop (mean ± std. dev. of 7 runs, 100 loops each)\n"
     ]
    }
   ],
   "source": [
    "def run():\n",
    "    lf.run_parallel_tempering(True)\n",
    "    lf.wait_for_gpu()\n",
    "\n",
    "%timeit run()"
   ]
  },
  {
   "cell_type": "code",
   "execution_count": 11,
   "id": "98db11db",
   "metadata": {},
   "outputs": [
    {
     "name": "stdout",
     "output_type": "stream",
     "text": [
      "1.94 ms ± 115 µs per loop (mean ± std. dev. of 7 runs, 100 loops each)\n"
     ]
    }
   ],
   "source": [
    "def run():\n",
    "    lf.get_energies()\n",
    "    lf.wait_for_gpu()\n",
    "\n",
    "%timeit run()"
   ]
  },
  {
   "cell_type": "code",
   "execution_count": 12,
   "id": "3c5a84fa",
   "metadata": {},
   "outputs": [
    {
     "name": "stdout",
     "output_type": "stream",
     "text": [
      "2.05 ms ± 135 µs per loop (mean ± std. dev. of 7 runs, 100 loops each)\n"
     ]
    }
   ],
   "source": [
    "def run():\n",
    "    lf.get_windings()\n",
    "    lf.wait_for_gpu()\n",
    "\n",
    "%timeit run()"
   ]
  },
  {
   "cell_type": "code",
   "execution_count": null,
   "id": "d766ec94",
   "metadata": {},
   "outputs": [],
   "source": [
    "all_inv_ks = []\n",
    "all_ws = []\n",
    "all_es = []\n",
    "\n",
    "windings = None\n",
    "counts = None\n",
    "for i in tqdm(range(num_steps)):\n",
    "    sub_inv_ks = inv_ks[i*(replicas - 1):i*(replicas - 1) + replicas]\n",
    "    potentials = np.einsum('i,j->ij', sub_inv_ks, potentials_form)\n",
    "    lf.init_potentials(potentials, windings=windings, standarize=True, num_staging=staging)\n",
    "    lf.repeated_seed(100)\n",
    "    w, e = lf.repeated_seed_and_measure(1000)\n",
    "    windings = w[-1,:,:]\n",
    "    all_inv_ks.append(sub_inv_ks)\n",
    "    all_ws.append(w)\n",
    "    all_es.append(e)\n",
    "    break"
   ]
  },
  {
   "cell_type": "code",
   "execution_count": null,
   "id": "c99e87e0",
   "metadata": {},
   "outputs": [],
   "source": [
    "for ik, e in zip(all_inv_ks, all_es):\n",
    "    plt.errorbar(ik, e.mean(axis=0), yerr=e.std(axis=0)/np.sqrt(e.shape[0]))\n",
    "plt.grid()\n",
    "plt.show()"
   ]
  },
  {
   "cell_type": "code",
   "execution_count": null,
   "id": "7c740b40",
   "metadata": {},
   "outputs": [],
   "source": [
    "for ik, e in zip(all_inv_ks, all_es):\n",
    "    plt.plot(ik, e.var(axis=0))\n",
    "plt.grid()\n",
    "plt.show()"
   ]
  },
  {
   "cell_type": "code",
   "execution_count": null,
   "id": "d5fcbe22",
   "metadata": {},
   "outputs": [],
   "source": [
    "for ik, w in zip(all_inv_ks, all_ws):\n",
    "    plt.plot(ik, w.var(axis=(-1,-3)))\n",
    "plt.grid()\n",
    "plt.show()"
   ]
  },
  {
   "cell_type": "code",
   "execution_count": null,
   "id": "27d90e76",
   "metadata": {},
   "outputs": [],
   "source": []
  }
 ],
 "metadata": {
  "kernelspec": {
   "display_name": "Python 3 (ipykernel)",
   "language": "python",
   "name": "python3"
  },
  "language_info": {
   "codemirror_mode": {
    "name": "ipython",
    "version": 3
   },
   "file_extension": ".py",
   "mimetype": "text/x-python",
   "name": "python",
   "nbconvert_exporter": "python",
   "pygments_lexer": "ipython3",
   "version": "3.10.6"
  }
 },
 "nbformat": 4,
 "nbformat_minor": 5
}
