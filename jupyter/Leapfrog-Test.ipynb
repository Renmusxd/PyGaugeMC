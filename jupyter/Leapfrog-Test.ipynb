{
 "cells": [
  {
   "cell_type": "code",
   "execution_count": 1,
   "id": "cc6d7046",
   "metadata": {},
   "outputs": [],
   "source": [
    "import numpy as np\n",
    "from matplotlib import pyplot as plt\n",
    "import py_gauge_mc\n",
    "from tqdm import tqdm"
   ]
  },
  {
   "cell_type": "code",
   "execution_count": 2,
   "id": "192e01ad",
   "metadata": {
    "scrolled": true
   },
   "outputs": [],
   "source": [
    "replicas = 64\n",
    "staging = 8\n",
    "v_n = 64\n",
    "L = 8\n",
    "lf = py_gauge_mc.WindingNumberLeapfrog(replicas + staging, v_n, L,L,L,L)\n",
    "lf.set_use_heatbath(True)\n",
    "\n",
    "potentials_form = np.array([x**2 for x in range(0,v_n)], dtype=np.float32)\n",
    "\n",
    "num_steps = 4\n",
    "inv_ks = np.linspace(0.1,1.0,num_steps*(replicas - 1) + 1, dtype=np.float32)"
   ]
  },
  {
   "cell_type": "markdown",
   "id": "9517419f",
   "metadata": {},
   "source": [
    "# Lets check some seeding statistics"
   ]
  },
  {
   "cell_type": "code",
   "execution_count": 3,
   "id": "6c6824e4",
   "metadata": {},
   "outputs": [],
   "source": [
    "i = 0\n",
    "sub_inv_ks = inv_ks[i*(replicas - 1):i*(replicas - 1) + replicas]\n",
    "potentials = np.einsum('i,j->ij', sub_inv_ks, potentials_form)\n",
    "\n",
    "def foo(x):\n",
    "    y = [0,0,0,0,0,0]\n",
    "    y[x] = 1\n",
    "    return y\n",
    "ws = [[0,0,0,0,0,0]] * 10\n",
    "ws = ws + [foo(i) for i in range(6)]\n",
    "\n",
    "lf.init_potentials(potentials, windings=np.array(ws, dtype=np.int32),num_staging=staging)"
   ]
  },
  {
   "cell_type": "code",
   "execution_count": 4,
   "id": "37641188",
   "metadata": {},
   "outputs": [],
   "source": [
    "lf.repeated_seed(100, 10, 100, 10, 10, 10, True)"
   ]
  },
  {
   "cell_type": "code",
   "execution_count": 5,
   "id": "6f89e892",
   "metadata": {},
   "outputs": [],
   "source": [
    "measurements = lf.repeated_seed_and_measure(100, 10, 100, 10, 10, 10, True)"
   ]
  },
  {
   "cell_type": "code",
   "execution_count": 14,
   "id": "b6372667",
   "metadata": {},
   "outputs": [
    {
     "data": {
      "text/plain": [
       "array([[[-1, -1,  1, -2,  1,  2],\n",
       "        [ 3, -2, -2,  0,  2, -1],\n",
       "        [ 2,  0, -2, -5, -2, -4],\n",
       "        ...,\n",
       "        [-1,  0, -2, -1,  0,  0],\n",
       "        [ 0, -1,  0, -1,  0,  0],\n",
       "        [-1,  2,  0,  0,  0,  1]],\n",
       "\n",
       "       [[-1, -1,  0, -2,  0,  0],\n",
       "        [-1, -1,  0,  0, -3,  0],\n",
       "        [ 0,  1, -1, -1,  1, -1],\n",
       "        ...,\n",
       "        [ 1,  2,  0, -2,  0,  2],\n",
       "        [ 2,  1,  0, -1,  1,  1],\n",
       "        [ 0,  1, -1,  0,  1,  1]],\n",
       "\n",
       "       [[-4,  2, -3, -5,  3, -4],\n",
       "        [ 0,  1,  2, -2, -5, -2],\n",
       "        [ 1,  0,  1,  0,  0,  0],\n",
       "        ...,\n",
       "        [ 0, -1,  1, -3, -1,  0],\n",
       "        [-1, -1, -2,  1, -1, -1],\n",
       "        [-1, -2,  0,  0,  0,  0]],\n",
       "\n",
       "       ...,\n",
       "\n",
       "       [[ 0, -1, -1,  0,  2,  0],\n",
       "        [-3,  3, -1, -1, -1,  2],\n",
       "        [ 1, -2,  0,  2, -1,  3],\n",
       "        ...,\n",
       "        [ 0,  0,  0, -1, -1,  1],\n",
       "        [ 1,  0,  0,  1, -1,  0],\n",
       "        [-1,  1, -1,  3,  0,  1]],\n",
       "\n",
       "       [[-4, -3, -3,  0, -4,  2],\n",
       "        [ 3,  0,  0, -8,  4, -1],\n",
       "        [ 2,  1, -1, -2, -1, -1],\n",
       "        ...,\n",
       "        [-1,  1,  1,  1,  1,  2],\n",
       "        [ 1,  0,  0,  0, -1, -2],\n",
       "        [-1,  0, -1,  0, -1, -3]],\n",
       "\n",
       "       [[-1,  0, -2, -1, -1,  1],\n",
       "        [ 0,  2,  1,  0,  4, -2],\n",
       "        [-1, -3, -1,  1, -1, -2],\n",
       "        ...,\n",
       "        [ 1,  0,  1,  0,  0,  1],\n",
       "        [ 1,  0,  0,  0,  1,  2],\n",
       "        [ 0,  3,  0,  1,  0, -1]]], dtype=int32)"
      ]
     },
     "execution_count": 14,
     "metadata": {},
     "output_type": "execute_result"
    }
   ],
   "source": [
    "states, energies = measurements\n",
    "\n",
    "states"
   ]
  },
  {
   "cell_type": "markdown",
   "id": "ef618cfd",
   "metadata": {},
   "source": [
    "# Time trials"
   ]
  },
  {
   "cell_type": "code",
   "execution_count": 3,
   "id": "f195a353",
   "metadata": {},
   "outputs": [
    {
     "name": "stdout",
     "output_type": "stream",
     "text": [
      "313 ms ± 8.52 ms per loop (mean ± std. dev. of 7 runs, 1 loop each)\n"
     ]
    }
   ],
   "source": [
    "# Time trial for seeding updates for i=0\n",
    "i = 0\n",
    "sub_inv_ks = inv_ks[i*(replicas - 1):i*(replicas - 1) + replicas]\n",
    "potentials = np.einsum('i,j->ij', sub_inv_ks, potentials_form)\n",
    "lf.init_potentials(potentials, windings=np.array([[0,0,0,0,0,0],[1,0,0,0,0,0]], dtype=np.int32),num_staging=staging)\n",
    "\n",
    "def run():\n",
    "    lf.repeated_seed(1)\n",
    "    lf.wait_for_gpu()\n",
    "\n",
    "%timeit run()"
   ]
  },
  {
   "cell_type": "code",
   "execution_count": 4,
   "id": "229fec90",
   "metadata": {},
   "outputs": [
    {
     "name": "stdout",
     "output_type": "stream",
     "text": [
      "90.7 µs ± 8.76 µs per loop (mean ± std. dev. of 7 runs, 10,000 loops each)\n"
     ]
    }
   ],
   "source": [
    "def run():\n",
    "    lf.seed_random_winding(True)\n",
    "    lf.wait_for_gpu()\n",
    "\n",
    "%timeit run()"
   ]
  },
  {
   "cell_type": "code",
   "execution_count": 5,
   "id": "7fe9b47c",
   "metadata": {},
   "outputs": [
    {
     "name": "stdout",
     "output_type": "stream",
     "text": [
      "105 µs ± 874 ns per loop (mean ± std. dev. of 7 runs, 10,000 loops each)\n"
     ]
    }
   ],
   "source": [
    "def run():\n",
    "    lf.run_global_sweep()\n",
    "    lf.wait_for_gpu()\n",
    "\n",
    "%timeit run()"
   ]
  },
  {
   "cell_type": "code",
   "execution_count": 6,
   "id": "a3458480",
   "metadata": {},
   "outputs": [
    {
     "name": "stdout",
     "output_type": "stream",
     "text": [
      "660 µs ± 1.92 µs per loop (mean ± std. dev. of 7 runs, 1,000 loops each)\n"
     ]
    }
   ],
   "source": [
    "def run():\n",
    "    lf.simulate_local(1)\n",
    "    lf.wait_for_gpu()\n",
    "\n",
    "%timeit run()"
   ]
  },
  {
   "cell_type": "code",
   "execution_count": 7,
   "id": "fc8f4ecf",
   "metadata": {},
   "outputs": [
    {
     "name": "stdout",
     "output_type": "stream",
     "text": [
      "5.88 ms ± 66.4 µs per loop (mean ± std. dev. of 7 runs, 100 loops each)\n"
     ]
    }
   ],
   "source": [
    "def run():\n",
    "    lf.simulate_local(10)\n",
    "    lf.wait_for_gpu()\n",
    "\n",
    "%timeit run()"
   ]
  },
  {
   "cell_type": "code",
   "execution_count": 8,
   "id": "1f8adb04",
   "metadata": {},
   "outputs": [
    {
     "name": "stdout",
     "output_type": "stream",
     "text": [
      "3.88 ms ± 136 µs per loop (mean ± std. dev. of 7 runs, 100 loops each)\n"
     ]
    }
   ],
   "source": [
    "def run():\n",
    "    lf.run_parallel_tempering(False)\n",
    "    lf.wait_for_gpu()\n",
    "\n",
    "%timeit run()"
   ]
  },
  {
   "cell_type": "code",
   "execution_count": 9,
   "id": "70945662",
   "metadata": {},
   "outputs": [
    {
     "name": "stdout",
     "output_type": "stream",
     "text": [
      "3.92 ms ± 106 µs per loop (mean ± std. dev. of 7 runs, 100 loops each)\n"
     ]
    }
   ],
   "source": [
    "def run():\n",
    "    lf.run_parallel_tempering(True)\n",
    "    lf.wait_for_gpu()\n",
    "\n",
    "%timeit run()"
   ]
  },
  {
   "cell_type": "code",
   "execution_count": 10,
   "id": "98db11db",
   "metadata": {},
   "outputs": [
    {
     "name": "stdout",
     "output_type": "stream",
     "text": [
      "2.19 ms ± 182 µs per loop (mean ± std. dev. of 7 runs, 100 loops each)\n"
     ]
    }
   ],
   "source": [
    "def run():\n",
    "    lf.get_energies()\n",
    "    lf.wait_for_gpu()\n",
    "\n",
    "%timeit run()"
   ]
  },
  {
   "cell_type": "code",
   "execution_count": 11,
   "id": "3c5a84fa",
   "metadata": {},
   "outputs": [
    {
     "name": "stdout",
     "output_type": "stream",
     "text": [
      "2.13 ms ± 52.8 µs per loop (mean ± std. dev. of 7 runs, 100 loops each)\n"
     ]
    }
   ],
   "source": [
    "def run():\n",
    "    lf.get_windings()\n",
    "    lf.wait_for_gpu()\n",
    "\n",
    "%timeit run()"
   ]
  },
  {
   "cell_type": "code",
   "execution_count": null,
   "id": "d766ec94",
   "metadata": {
    "scrolled": false
   },
   "outputs": [
    {
     "name": "stderr",
     "output_type": "stream",
     "text": [
      "\r",
      "  0%|                                                                                                                  | 0/4 [00:00<?, ?it/s]"
     ]
    }
   ],
   "source": [
    "all_inv_ks = []\n",
    "all_ws = []\n",
    "all_es = []\n",
    "sample_states = []\n",
    "\n",
    "windings = None\n",
    "counts = None\n",
    "for i in tqdm(range(num_steps)):\n",
    "    sub_inv_ks = inv_ks[i*(replicas - 1):i*(replicas - 1) + replicas]\n",
    "    potentials = np.einsum('i,j->ij', sub_inv_ks, potentials_form)\n",
    "    lf.init_potentials(potentials, windings=windings, standarize=True, num_staging=staging)\n",
    "    lf.repeated_seed(10,\n",
    "                    full_seed_steps_per_sample=2,\n",
    "                    local_updates_after_seeding=100,\n",
    "                    updates_between_seeding=32,\n",
    "                    local_updates_before_tempering=5,\n",
    "                    local_updates_after_tempering=5,\n",
    "                    allow_inverting=True)\n",
    "    w, e = lf.repeated_seed_and_measure(100,\n",
    "                    full_seed_steps_per_sample=2,\n",
    "                    local_updates_after_seeding=100,\n",
    "                    updates_between_seeding=32,\n",
    "                    local_updates_before_tempering=5,\n",
    "                    local_updates_after_tempering=5,\n",
    "                    allow_inverting=True)\n",
    "    sample_states.append(lf.get_state_and_staging())\n",
    "    windings = w[-1,:,:]\n",
    "    all_inv_ks.append(sub_inv_ks)\n",
    "    all_ws.append(w)\n",
    "    all_es.append(e)\n",
    "all_es = np.array(all_es)/L**4\n",
    "all_ws = np.array(all_ws)\n",
    "all_inv_ks = np.array(all_inv_ks)"
   ]
  },
  {
   "cell_type": "code",
   "execution_count": null,
   "id": "c99e87e0",
   "metadata": {},
   "outputs": [],
   "source": [
    "for ik, e in zip(all_inv_ks, all_es):\n",
    "    plt.errorbar(ik, e.mean(axis=0), yerr=e.std(axis=0)/np.sqrt(e.shape[0]))\n",
    "plt.grid()\n",
    "plt.show()"
   ]
  },
  {
   "cell_type": "code",
   "execution_count": null,
   "id": "7c740b40",
   "metadata": {},
   "outputs": [],
   "source": [
    "for ik, e in zip(all_inv_ks, all_es):\n",
    "    plt.plot(ik, e.var(axis=0))\n",
    "plt.grid()\n",
    "plt.show()"
   ]
  },
  {
   "cell_type": "code",
   "execution_count": null,
   "id": "d5fcbe22",
   "metadata": {},
   "outputs": [],
   "source": [
    "for ik, w in zip(all_inv_ks, all_ws):\n",
    "    plt.plot(ik, w.var(axis=(-1,-3)))\n",
    "plt.grid()\n",
    "plt.show()"
   ]
  },
  {
   "cell_type": "markdown",
   "id": "552da18e",
   "metadata": {},
   "source": [
    "## Check old stuff...?"
   ]
  },
  {
   "cell_type": "code",
   "execution_count": null,
   "id": "ce49a956",
   "metadata": {},
   "outputs": [],
   "source": [
    "old_all_inv_ks = []\n",
    "old_all_ws = []\n",
    "old_all_es = []\n",
    "\n",
    "for i in tqdm(range(num_steps)):\n",
    "    sub_inv_ks = inv_ks[i*(replicas - 1):i*(replicas - 1) + replicas]\n",
    "    potentials = np.einsum('i,j->ij', sub_inv_ks, potentials_form)\n",
    "    graph = py_gauge_mc.GPUGaugeTheory((L,L,L,L),potentials)\n",
    "    graph.run_local_update(100)\n",
    "    w, e = graph.simulate_and_get_winding_nums_and_energies(100, steps_per_sample=10, \n",
    "                                                            run_global_updates=True)\n",
    "    old_all_inv_ks.append(sub_inv_ks)\n",
    "    old_all_ws.append(w)\n",
    "    old_all_es.append(e)\n",
    "old_all_es = np.array(old_all_es)\n",
    "old_all_ws = np.array(old_all_ws)"
   ]
  },
  {
   "cell_type": "code",
   "execution_count": null,
   "id": "7959a2e0",
   "metadata": {},
   "outputs": [],
   "source": [
    "for ik, e in zip(old_all_inv_ks, old_all_es):\n",
    "    plt.errorbar(ik, e.mean(axis=-1), yerr=e.std(axis=-1)/np.sqrt(e.shape[-1]))\n",
    "plt.grid()\n",
    "plt.show()"
   ]
  },
  {
   "cell_type": "code",
   "execution_count": null,
   "id": "f1b3771d",
   "metadata": {},
   "outputs": [],
   "source": [
    "for ik, w in zip(old_all_inv_ks, old_all_ws):\n",
    "    plt.plot(ik, w.var(axis=(-1,-2)))\n",
    "plt.grid()\n",
    "plt.show()"
   ]
  },
  {
   "cell_type": "code",
   "execution_count": null,
   "id": "f8c7382f",
   "metadata": {},
   "outputs": [],
   "source": []
  }
 ],
 "metadata": {
  "kernelspec": {
   "display_name": "Python 3 (ipykernel)",
   "language": "python",
   "name": "python3"
  },
  "language_info": {
   "codemirror_mode": {
    "name": "ipython",
    "version": 3
   },
   "file_extension": ".py",
   "mimetype": "text/x-python",
   "name": "python",
   "nbconvert_exporter": "python",
   "pygments_lexer": "ipython3",
   "version": "3.10.6"
  }
 },
 "nbformat": 4,
 "nbformat_minor": 5
}
