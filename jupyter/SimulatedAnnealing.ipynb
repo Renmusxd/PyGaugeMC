{
 "cells": [
  {
   "cell_type": "code",
   "execution_count": 1,
   "id": "33ce373b",
   "metadata": {},
   "outputs": [],
   "source": [
    "import numpy as np\n",
    "from matplotlib import pyplot as plt\n",
    "import py_gauge_mc\n",
    "import os\n",
    "from tqdm import tqdm"
   ]
  },
  {
   "cell_type": "code",
   "execution_count": 2,
   "id": "05bfa183",
   "metadata": {},
   "outputs": [],
   "source": [
    "def make_graph(l, vns, inv_ks):\n",
    "    pots = np.einsum('i,j->ij', inv_ks, vns)\n",
    "    graph = py_gauge_mc.GPUGaugeTheory(l,l,l,l,pots.astype(np.float32))\n",
    "    return graph, pots"
   ]
  },
  {
   "cell_type": "code",
   "execution_count": 3,
   "id": "fba1791b",
   "metadata": {},
   "outputs": [],
   "source": [
    "L = 8\n",
    "vlen = 128\n",
    "n_replicas = 128 \n",
    "inv_k = 0.1\n",
    "\n",
    "inv_ks = [inv_k]*n_replicas\n",
    "vns = [(n**2) for n in range(vlen)]\n",
    "\n",
    "graph,vn = make_graph(L,vns,inv_ks)"
   ]
  },
  {
   "cell_type": "code",
   "execution_count": null,
   "id": "f6b5e639",
   "metadata": {},
   "outputs": [
    {
     "name": "stderr",
     "output_type": "stream",
     "text": [
      "  1%|▊                                                                                                       | 1/128 [00:22<48:06, 22.73s/it]"
     ]
    }
   ],
   "source": [
    "start = 0.1\n",
    "end = 1.0\n",
    "ndivs = 128\n",
    "inc = np.power(end/start,1.0/ndivs)\n",
    "\n",
    "graph.simulate(10000,run_parallel_tempering=False,run_global_updates=True)\n",
    "windings, energies = graph.simulate_and_get_winding_nums_and_energies(1000,steps_per_sample=10, run_parallel_tempering=False,run_global_updates=True) \n",
    "\n",
    "all_inv_ks = [inv_k]\n",
    "all_energies = [energies]\n",
    "all_windings = [windings]\n",
    "for i in tqdm(range(ndivs)):\n",
    "    graph.scale_potentials_by_factor(inc)\n",
    "    inv_k = inv_k * inc\n",
    "    graph.simulate(10000,run_parallel_tempering=False,run_global_updates=True)\n",
    "    windings, energies = graph.simulate_and_get_winding_nums_and_energies(1000,steps_per_sample=10, run_parallel_tempering=False,run_global_updates=True)\n",
    "    all_energies.append(energies)\n",
    "    all_windings.append(windings)\n",
    "    all_inv_ks.append(inv_k)\n",
    "    \n",
    "all_inv_ks = np.array(all_inv_ks)\n",
    "all_energies = np.array(all_energies)\n",
    "all_windings = np.array(all_windings)"
   ]
  },
  {
   "cell_type": "code",
   "execution_count": null,
   "id": "8bc57968",
   "metadata": {},
   "outputs": [],
   "source": [
    "plt.plot(all_inv_ks, all_energies.mean(axis=(-1,-2))/L**4)\n",
    "plt.show()\n",
    "\n",
    "plt.plot(all_inv_ks, all_energies.var(axis=(-1,-2))/L**4)\n",
    "plt.show()"
   ]
  },
  {
   "cell_type": "code",
   "execution_count": null,
   "id": "29284b4c",
   "metadata": {},
   "outputs": [],
   "source": [
    "plt.plot(all_inv_ks, all_windings.var(axis=(-1,-2,-3)))\n",
    "plt.show()"
   ]
  },
  {
   "cell_type": "code",
   "execution_count": null,
   "id": "ce5e9ca1",
   "metadata": {},
   "outputs": [],
   "source": []
  }
 ],
 "metadata": {
  "kernelspec": {
   "display_name": "Python 3 (ipykernel)",
   "language": "python",
   "name": "python3"
  },
  "language_info": {
   "codemirror_mode": {
    "name": "ipython",
    "version": 3
   },
   "file_extension": ".py",
   "mimetype": "text/x-python",
   "name": "python",
   "nbconvert_exporter": "python",
   "pygments_lexer": "ipython3",
   "version": "3.10.4"
  }
 },
 "nbformat": 4,
 "nbformat_minor": 5
}
