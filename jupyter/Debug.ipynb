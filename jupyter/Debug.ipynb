{
 "cells": [
  {
   "cell_type": "code",
   "execution_count": 1,
   "id": "46e3ea5b",
   "metadata": {},
   "outputs": [],
   "source": [
    "import numpy as np\n",
    "from matplotlib import pyplot as plt\n",
    "import py_gauge_mc\n",
    "# import scipy.integrate\n",
    "from tqdm.notebook import tqdm"
   ]
  },
  {
   "cell_type": "code",
   "execution_count": 2,
   "id": "a2a31f70",
   "metadata": {},
   "outputs": [],
   "source": [
    "def v_tilde(ns, k):\n",
    "    return 1/k * ns**2\n",
    "    #return - np.log(scipy.special.jv(ns, k) / scipy.special.jv(0, k))"
   ]
  },
  {
   "cell_type": "code",
   "execution_count": 8,
   "id": "a1bb5c7f",
   "metadata": {
    "scrolled": false
   },
   "outputs": [],
   "source": [
    "L = 16\n",
    "\n",
    "inv_ks = list(np.linspace(0.1,1.0,128))\n",
    "inv_ks = np.array(list(sorted(set(inv_ks))))\n",
    "inv_k = inv_ks[0]\n",
    "\n",
    "vns = v_tilde(np.arange(0,1000), 1./inv_k)\n",
    "vns = np.array([vns], dtype=np.float32)"
   ]
  },
  {
   "cell_type": "code",
   "execution_count": 9,
   "id": "cda74e98",
   "metadata": {},
   "outputs": [],
   "source": [
    "try:\n",
    "    graph = py_gauge_mc.GPUGaugeTheory((L,L,L,L),vns)\n",
    "except:\n",
    "    graph = py_gauge_mc.GPUGaugeTheory(L,L,L,L,vns)\n",
    "\n",
    "try:\n",
    "    graph.set_debug_check_for_violations(True)\n",
    "except:\n",
    "    pass\n",
    "\n",
    "try:\n",
    "    graph.set_optmize_args(True)\n",
    "except:\n",
    "    pass"
   ]
  },
  {
   "cell_type": "code",
   "execution_count": 10,
   "id": "959f91c2",
   "metadata": {},
   "outputs": [],
   "source": [
    "graph.simulate(10, run_global_updates=True, run_rotate_pcg=True, run_parallel_tempering=True)"
   ]
  },
  {
   "cell_type": "code",
   "execution_count": 11,
   "id": "6bfd71d4",
   "metadata": {},
   "outputs": [
    {
     "data": {
      "text/plain": [
       "[]"
      ]
     },
     "execution_count": 11,
     "metadata": {},
     "output_type": "execute_result"
    }
   ],
   "source": [
    "state = graph.get_graph_state()\n",
    "violations = graph.get_violations()\n",
    "violations"
   ]
  }
 ],
 "metadata": {
  "kernelspec": {
   "display_name": "Python 3 (ipykernel)",
   "language": "python",
   "name": "python3"
  },
  "language_info": {
   "codemirror_mode": {
    "name": "ipython",
    "version": 3
   },
   "file_extension": ".py",
   "mimetype": "text/x-python",
   "name": "python",
   "nbconvert_exporter": "python",
   "pygments_lexer": "ipython3",
   "version": "3.10.6"
  }
 },
 "nbformat": 4,
 "nbformat_minor": 5
}
