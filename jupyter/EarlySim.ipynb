{
 "cells": [
  {
   "cell_type": "code",
   "execution_count": 6,
   "id": "bc90c61d",
   "metadata": {},
   "outputs": [],
   "source": [
    "import numpy as np\n",
    "from matplotlib import pyplot as plt\n",
    "import py_gauge_mc"
   ]
  },
  {
   "cell_type": "code",
   "execution_count": 7,
   "id": "2c679ed9",
   "metadata": {},
   "outputs": [],
   "source": [
    "def make_graph(l=4, inv_k=1/2.0,vlen=100):\n",
    "    graph = py_gauge_mc.GaugeTheory(l,l,l,l,[(n**2)*inv_k for n in range(vlen)])\n",
    "    return graph"
   ]
  },
  {
   "cell_type": "code",
   "execution_count": 8,
   "id": "5037b826",
   "metadata": {},
   "outputs": [],
   "source": [
    "inv_ks = np.linspace(0.25,3.0, 20)\n",
    "windings = []\n",
    "\n",
    "for inv_k in inv_ks:\n",
    "    g = make_graph(l=4, inv_k=inv_k, vlen=30)\n",
    "    winding_var = g.simulate_and_get_winding_variance(1000,10)\n",
    "    windings.append(winding_var.mean())"
   ]
  },
  {
   "cell_type": "code",
   "execution_count": 9,
   "id": "8f3e0a34",
   "metadata": {},
   "outputs": [
    {
     "data": {
      "image/png": "[encoded data removed]",
      "text/plain": [
       "<Figure size 432x288 with 1 Axes>"
      ]
     },
     "metadata": {
      "needs_background": "light"
     },
     "output_type": "display_data"
    }
   ],
   "source": [
    "plt.plot(inv_ks, windings)\n",
    "plt.show()"
   ]
  },
  {
   "cell_type": "code",
   "execution_count": null,
   "id": "bf575e79",
   "metadata": {},
   "outputs": [],
   "source": []
  }
 ],
 "metadata": {
  "kernelspec": {
   "display_name": "Python 3 (ipykernel)",
   "language": "python",
   "name": "python3"
  },
  "language_info": {
   "codemirror_mode": {
    "name": "ipython",
    "version": 3
   },
   "file_extension": ".py",
   "mimetype": "text/x-python",
   "name": "python",
   "nbconvert_exporter": "python",
   "pygments_lexer": "ipython3",
   "version": "3.8.10"
  }
 },
 "nbformat": 4,
 "nbformat_minor": 5
}
