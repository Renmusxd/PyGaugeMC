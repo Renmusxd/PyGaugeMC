{
 "cells": [
  {
   "cell_type": "code",
   "execution_count": 1,
   "id": "bc90c61d",
   "metadata": {},
   "outputs": [],
   "source": [
    "import numpy as np\n",
    "from matplotlib import pyplot as plt\n",
    "import py_gauge_mc"
   ]
  },
  {
   "cell_type": "code",
   "execution_count": 2,
   "id": "2c679ed9",
   "metadata": {},
   "outputs": [],
   "source": [
    "def make_graph(l=8, inv_k=1/2.0,vlen=100):\n",
    "    graph = py_gauge_mc.GPUGaugeTheory(l,l,l,l,[(n**2)*inv_k for n in range(vlen)])\n",
    "    return graph"
   ]
  },
  {
   "cell_type": "code",
   "execution_count": 8,
   "id": "5037b826",
   "metadata": {},
   "outputs": [
    {
     "name": "stdout",
     "output_type": "stream",
     "text": [
      "0.5\n",
      "1.0\n",
      "1.5\n",
      "2.0\n",
      "2.5\n",
      "3.0\n",
      "3.5\n",
      "4.0\n",
      "4.5\n",
      "5.0\n",
      "5.5\n",
      "6.0\n",
      "6.5\n",
      "7.0\n",
      "7.5\n",
      "8.0\n",
      "8.5\n",
      "9.0\n",
      "9.5\n",
      "10.0\n"
     ]
    }
   ],
   "source": [
    "ks = np.linspace(0.5, 10.0, 20)\n",
    "windings = []\n",
    "\n",
    "for k in ks:\n",
    "    print(k)\n",
    "    sub_windings = []\n",
    "    for i in range(10):\n",
    "        g = make_graph(l=16, inv_k=1/k, vlen=100)\n",
    "        g.run_local_update(100)\n",
    "        g.run_global_update()\n",
    "        winding_var = g.simulate_and_get_winding_variance(1000,10)\n",
    "        sub_windings.append(winding_var.mean())\n",
    "    windings.append(sub_windings)\n",
    "windings = np.array(windings)"
   ]
  },
  {
   "cell_type": "code",
   "execution_count": 16,
   "id": "54179376",
   "metadata": {},
   "outputs": [],
   "source": [
    "de_errored_windings = windings.copy()\n",
    "de_errored_windings[de_errored_windings > 1e3] = 0"
   ]
  },
  {
   "cell_type": "code",
   "execution_count": 54,
   "id": "8f3e0a34",
   "metadata": {},
   "outputs": [
    {
     "data": {
      "image/png": "[encoded data removed]",
      "text/plain": [
       "<Figure size 432x288 with 1 Axes>"
      ]
     },
     "metadata": {
      "needs_background": "light"
     },
     "output_type": "display_data"
    }
   ],
   "source": [
    "for i in range(de_errored_windings.shape[-1]):\n",
    "    sub_windings = de_errored_windings[:,i]\n",
    "    plt.plot(1/ks, sub_windings, c='grey',alpha=0.1)\n",
    "plt.plot(1/ks, de_errored_windings.mean(axis=-1), c='r')\n",
    "plt.errorbar(1/ks, \n",
    "             de_errored_windings.mean(axis=-1), \n",
    "             yerr=np.sqrt(de_errored_windings.var(axis=-1)), c='r',\n",
    "             label='L=16')\n",
    "plt.xscale('log')\n",
    "plt.grid()\n",
    "plt.ylabel(r'$\\langle W^2 \\rangle$')\n",
    "plt.xlabel(r'$1/K$')\n",
    "plt.legend()\n",
    "plt.savefig('confinement.png', dpi=300)\n",
    "plt.show()"
   ]
  },
  {
   "cell_type": "code",
   "execution_count": null,
   "id": "c2bebcc1",
   "metadata": {},
   "outputs": [],
   "source": []
  }
 ],
 "metadata": {
  "kernelspec": {
   "display_name": "Python 3 (ipykernel)",
   "language": "python",
   "name": "python3"
  },
  "language_info": {
   "codemirror_mode": {
    "name": "ipython",
    "version": 3
   },
   "file_extension": ".py",
   "mimetype": "text/x-python",
   "name": "python",
   "nbconvert_exporter": "python",
   "pygments_lexer": "ipython3",
   "version": "3.8.10"
  }
 },
 "nbformat": 4,
 "nbformat_minor": 5
}
