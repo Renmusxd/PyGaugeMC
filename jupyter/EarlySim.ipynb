{
 "cells": [
  {
   "cell_type": "code",
   "execution_count": 2,
   "id": "bc90c61d",
   "metadata": {},
   "outputs": [],
   "source": [
    "import numpy as np\n",
    "from matplotlib import pyplot as plt\n",
    "import py_gauge_mc"
   ]
  },
  {
   "cell_type": "code",
   "execution_count": 3,
   "id": "2c679ed9",
   "metadata": {},
   "outputs": [],
   "source": [
    "def make_graph(l=8, inv_k=1/2.0,vlen=100):\n",
    "    graph = py_gauge_mc.GPUGaugeTheory(l,l,l,l,[(n**2)*inv_k for n in range(vlen)])\n",
    "    #graph = py_gauge_mc.GaugeTheory(l,l,l,l,[(n**2)*inv_k for n in range(vlen)])\n",
    "    return graph"
   ]
  },
  {
   "cell_type": "code",
   "execution_count": 8,
   "id": "5037b826",
   "metadata": {
    "scrolled": true
   },
   "outputs": [
    {
     "name": "stdout",
     "output_type": "stream",
     "text": [
      "4\n",
      "\t0.5\n",
      "\t1.0\n",
      "\t1.5\n",
      "\t2.0\n",
      "\t2.5\n",
      "\t3.0\n",
      "\t3.5\n",
      "\t4.0\n",
      "\t4.5\n",
      "\t5.0\n",
      "\t5.5\n",
      "\t6.0\n",
      "\t6.5\n",
      "\t7.0\n",
      "\t7.5\n",
      "\t8.0\n",
      "\t8.5\n",
      "\t9.0\n",
      "\t9.5\n",
      "\t10.0\n",
      "8\n",
      "\t0.5\n",
      "\t1.0\n",
      "\t1.5\n",
      "\t2.0\n",
      "\t2.5\n",
      "\t3.0\n",
      "\t3.5\n",
      "\t4.0\n",
      "\t4.5\n",
      "\t5.0\n",
      "\t5.5\n",
      "\t6.0\n",
      "\t6.5\n",
      "\t7.0\n",
      "\t7.5\n",
      "\t8.0\n",
      "\t8.5\n",
      "\t9.0\n",
      "\t9.5\n",
      "\t10.0\n",
      "16\n",
      "\t0.5\n",
      "\t1.0\n",
      "\t1.5\n",
      "\t2.0\n",
      "\t2.5\n",
      "\t3.0\n",
      "\t3.5\n",
      "\t4.0\n",
      "\t4.5\n",
      "\t5.0\n",
      "\t5.5\n",
      "\t6.0\n",
      "\t6.5\n",
      "\t7.0\n",
      "\t7.5\n",
      "\t8.0\n",
      "\t8.5\n",
      "\t9.0\n",
      "\t9.5\n",
      "\t10.0\n",
      "CPU times: user 14min 19s, sys: 15min 14s, total: 29min 33s\n",
      "Wall time: 30min 29s\n"
     ]
    }
   ],
   "source": [
    "%%time\n",
    "\n",
    "ks = np.linspace(0.5, 10.0, 20)\n",
    "\n",
    "all_windings = []\n",
    "\n",
    "for L in [4,8,16]:\n",
    "    print(L, flush=True)\n",
    "    windings = []\n",
    "\n",
    "    for k in ks:\n",
    "        print(\"\\t{}\".format(k), flush=True)\n",
    "        sub_windings = []\n",
    "        for i in range(10):\n",
    "            g = make_graph(l=L, inv_k=1/k, vlen=100)\n",
    "            g.run_local_update(100)\n",
    "            g.run_global_update()\n",
    "            winding_var = g.simulate_and_get_winding_variance(1000,10)\n",
    "            sub_windings.append(winding_var.mean())\n",
    "        windings.append(sub_windings)\n",
    "    all_windings.append(windings)\n",
    "all_windings = np.array(all_windings)"
   ]
  },
  {
   "cell_type": "code",
   "execution_count": 13,
   "id": "8f3e0a34",
   "metadata": {},
   "outputs": [
    {
     "data": {
      "image/png": "[encoded data removed]",
      "text/plain": [
       "<Figure size 432x288 with 1 Axes>"
      ]
     },
     "metadata": {
      "needs_background": "light"
     },
     "output_type": "display_data"
    }
   ],
   "source": [
    "# for i in range(de_errored_windings.shape[-1]):\n",
    "#     sub_windings = de_errored_windings[:,i]\n",
    "#     plt.plot(1/ks, sub_windings, c='grey',alpha=0.1)\n",
    "\n",
    "for l, data in zip([4,8,16], all_windings):\n",
    "    #plt.plot(1/ks, data.mean(axis=-1), c='r')\n",
    "    plt.errorbar(1/ks, \n",
    "                 data.mean(axis=-1), \n",
    "                 yerr=np.sqrt(data.var(axis=-1)),\n",
    "                 label=f'L={l}')\n",
    "plt.xscale('log')\n",
    "plt.grid()\n",
    "plt.ylabel(r'$\\langle W^2 \\rangle$')\n",
    "plt.xlabel(r'$1/K$')\n",
    "plt.legend()\n",
    "plt.savefig('confinement.png', dpi=300)\n",
    "plt.show()"
   ]
  },
  {
   "cell_type": "code",
   "execution_count": null,
   "id": "c2bebcc1",
   "metadata": {},
   "outputs": [],
   "source": []
  }
 ],
 "metadata": {
  "kernelspec": {
   "display_name": "Python 3 (ipykernel)",
   "language": "python",
   "name": "python3"
  },
  "language_info": {
   "codemirror_mode": {
    "name": "ipython",
    "version": 3
   },
   "file_extension": ".py",
   "mimetype": "text/x-python",
   "name": "python",
   "nbconvert_exporter": "python",
   "pygments_lexer": "ipython3",
   "version": "3.8.10"
  }
 },
 "nbformat": 4,
 "nbformat_minor": 5
}
