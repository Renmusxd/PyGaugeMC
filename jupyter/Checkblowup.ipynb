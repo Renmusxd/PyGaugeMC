{
 "cells": [
  {
   "cell_type": "code",
   "execution_count": 1,
   "id": "84290c38",
   "metadata": {},
   "outputs": [],
   "source": [
    "import numpy as np\n",
    "from matplotlib import pyplot as plt\n",
    "import py_gauge_mc\n",
    "\n",
    "from tqdm.notebook import tqdm"
   ]
  },
  {
   "cell_type": "code",
   "execution_count": 2,
   "id": "3fe31d9d",
   "metadata": {},
   "outputs": [],
   "source": [
    "def make_graph(l=8, inv_k=1/2.0,vlen=100,device='gpu'):\n",
    "    if device == 'gpu':\n",
    "        graph = py_gauge_mc.GPUGaugeTheory(l,l,l,l,[(n**2)*inv_k for n in range(vlen)])\n",
    "    elif device == 'cpu':\n",
    "        graph = py_gauge_mc.GaugeTheory(l,l,l,l,[(n**2)*inv_k for n in range(vlen)])\n",
    "    return graph"
   ]
  },
  {
   "cell_type": "code",
   "execution_count": 3,
   "id": "23a7cf84",
   "metadata": {},
   "outputs": [
    {
     "data": {
      "application/vnd.jupyter.widget-view+json": {
       "model_id": "8742885ac48b419c8db5d1aa3f228597",
       "version_major": 2,
       "version_minor": 0
      },
      "text/plain": [
       "  0%|          | 0/100 [00:00<?, ?it/s]"
      ]
     },
     "metadata": {},
     "output_type": "display_data"
    },
    {
     "data": {
      "text/plain": [
       "(4, -3, 0.0, 0.6455761316872428, array([0, 0, 0, 0, 0, 0], dtype=int32))"
      ]
     },
     "execution_count": 3,
     "metadata": {},
     "output_type": "execute_result"
    }
   ],
   "source": [
    "l = 12\n",
    "\n",
    "g = make_graph(l=l, inv_k=0.5, vlen=100)\n",
    "for i in tqdm(range(100)):\n",
    "    g.run_local_update(20)\n",
    "    g.run_global_update()\n",
    "state = g.get_graph_state()\n",
    "(np.max(state), np.min(state), np.mean(state), np.var(state), g.get_winding_nums())"
   ]
  },
  {
   "cell_type": "code",
   "execution_count": 9,
   "id": "311e7b5e",
   "metadata": {},
   "outputs": [
    {
     "data": {
      "application/vnd.jupyter.widget-view+json": {
       "model_id": "2b7469e726394160a994a646b92de41c",
       "version_major": 2,
       "version_minor": 0
      },
      "text/plain": [
       "  0%|          | 0/100 [00:00<?, ?it/s]"
      ]
     },
     "metadata": {},
     "output_type": "display_data"
    },
    {
     "data": {
      "text/plain": [
       "(0, 0, 0.0, 0.0)"
      ]
     },
     "execution_count": 9,
     "metadata": {},
     "output_type": "execute_result"
    }
   ],
   "source": [
    "g = make_graph(l=l, inv_k=1.0, vlen=100)\n",
    "for i in tqdm(range(100)):\n",
    "    g.run_local_update(20)\n",
    "    g.run_global_update()\n",
    "winding_nums = g.simulate_and_get_winding_nums(1000,local_updates_per_step=100,steps_per_sample=10)\n",
    "(np.max(winding_nums), np.min(winding_nums), np.mean(winding_nums), np.var(winding_nums))"
   ]
  },
  {
   "cell_type": "code",
   "execution_count": null,
   "id": "026459a5",
   "metadata": {},
   "outputs": [],
   "source": []
  }
 ],
 "metadata": {
  "kernelspec": {
   "display_name": "Python 3 (ipykernel)",
   "language": "python",
   "name": "python3"
  },
  "language_info": {
   "codemirror_mode": {
    "name": "ipython",
    "version": 3
   },
   "file_extension": ".py",
   "mimetype": "text/x-python",
   "name": "python",
   "nbconvert_exporter": "python",
   "pygments_lexer": "ipython3",
   "version": "3.8.10"
  }
 },
 "nbformat": 4,
 "nbformat_minor": 5
}
