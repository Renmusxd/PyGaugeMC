{
 "cells": [
  {
   "cell_type": "code",
   "execution_count": 1,
   "id": "1c9a95d4",
   "metadata": {},
   "outputs": [],
   "source": [
    "import numpy as np\n",
    "from matplotlib import pyplot as plt\n",
    "import py_gauge_mc\n",
    "import os\n",
    "from tqdm import tqdm\n",
    "import scipy.special"
   ]
  },
  {
   "cell_type": "markdown",
   "id": "aa9e5a91",
   "metadata": {},
   "source": [
    "# Cosine potential\n",
    "\n",
    "$-S(\\theta) = K (1 - \\mbox{cos}(\\theta))$\n",
    "\n",
    "$$\\int d\\theta e^{-S(\\theta)} \\mbox{cos}(n \\theta) = (-1)^n 2\\pi J_n(K)$$\n",
    "\n",
    "But odd numbers always appear in pairs, no sign problem\n",
    "\n",
    "$\\tilde V_n - \\tilde V_0 = - \\mbox{log} \\left( \\frac{J_n(K)}{J_0(K)}\\right)$\n",
    "\n",
    "Proof:\n",
    "\n",
    "Local moves change 3 plaquettes by $+1$ and 3 by $-1$, consider the generalized case of 6 updates of $\\pm 1$.\n",
    "If the graph starts with $n$ odd numbers on it, the first $\\pm 1$ brings that to either $n+1$ or $n-1$, and the second to one of $n$, $n+2$, $n-2$. In similar fashion after 6 updates we have $n + 2k$ total odd numbers in the graph with $k$ an integer from $-3$ to $3$. So if $n$ starts even then $n+2k$ remains even."
   ]
  },
  {
   "cell_type": "code",
   "execution_count": 2,
   "id": "c239e75b",
   "metadata": {},
   "outputs": [],
   "source": [
    "def v_tilde(ns, k):\n",
    "    return - np.log(scipy.special.jv(ns, k) / scipy.special.jv(0, k))"
   ]
  },
  {
   "cell_type": "code",
   "execution_count": null,
   "id": "744ff813",
   "metadata": {},
   "outputs": [
    {
     "name": "stderr",
     "output_type": "stream",
     "text": [
      "\r",
      "K:   0%|                                                                                                                                                                                                                                                                                                                                                                                                         | 0/60 [00:00<?, ?it/s]"
     ]
    }
   ],
   "source": [
    "L = 8\n",
    "n_exp = 1024\n",
    "\n",
    "inv_ks = np.linspace(1.1,1.3,60)\n",
    "\n",
    "cosine_all_energies = []\n",
    "for inv_k in tqdm(inv_ks,desc='K'):\n",
    "    vns = v_tilde(np.arange(0,100), 1./inv_k).astype(np.float32)\n",
    "    vns = np.tile(vns, [n_exp, 1])\n",
    "    \n",
    "    graph = py_gauge_mc.GPUGaugeTheory((L,L,L,L),vns)\n",
    "    graph.run_local_update(1000)\n",
    "    energies = graph.simulate_and_get_energies(100, steps_per_sample=100, run_global_updates=False, run_parallel_tempering=False)\n",
    "    cosine_all_energies.append(energies)\n",
    "del graph\n",
    "cosine_all_energies = np.array(cosine_all_energies)/(L**4)"
   ]
  },
  {
   "cell_type": "code",
   "execution_count": null,
   "id": "c18dff2d",
   "metadata": {},
   "outputs": [],
   "source": [
    "cosine_all_energies.shape"
   ]
  },
  {
   "cell_type": "code",
   "execution_count": null,
   "id": "8727fcab",
   "metadata": {},
   "outputs": [],
   "source": [
    "plt.plot(inv_ks, cosine_all_energies.mean(axis=(1,2)))\n",
    "plt.grid()\n",
    "plt.show()\n",
    "\n",
    "plt.plot(inv_ks, cosine_all_energies.var(axis=(1,2)))\n",
    "plt.grid()\n",
    "plt.show()"
   ]
  },
  {
   "cell_type": "code",
   "execution_count": null,
   "id": "d576e827",
   "metadata": {},
   "outputs": [],
   "source": []
  }
 ],
 "metadata": {
  "kernelspec": {
   "display_name": "Python 3 (ipykernel)",
   "language": "python",
   "name": "python3"
  },
  "language_info": {
   "codemirror_mode": {
    "name": "ipython",
    "version": 3
   },
   "file_extension": ".py",
   "mimetype": "text/x-python",
   "name": "python",
   "nbconvert_exporter": "python",
   "pygments_lexer": "ipython3",
   "version": "3.10.6"
  }
 },
 "nbformat": 4,
 "nbformat_minor": 5
}
